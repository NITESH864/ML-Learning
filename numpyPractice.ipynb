{
 "cells": [
  {
   "cell_type": "code",
   "execution_count": 3,
   "id": "feab4da7-1eaa-4a7f-a638-9135be624c0b",
   "metadata": {},
   "outputs": [
    {
     "name": "stdout",
     "output_type": "stream",
     "text": [
      "Nitesh Babu\n"
     ]
    }
   ],
   "source": [
    "print(\"Nitesh Babu\")"
   ]
  },
  {
   "cell_type": "code",
   "execution_count": 4,
   "id": "d8f2842e-7820-467f-af93-9423ebb20831",
   "metadata": {},
   "outputs": [],
   "source": [
    "import numpy as np"
   ]
  },
  {
   "cell_type": "code",
   "execution_count": 5,
   "id": "79d9fdc0-d84b-48c5-ad7d-213b266c1dc3",
   "metadata": {},
   "outputs": [
    {
     "name": "stdout",
     "output_type": "stream",
     "text": [
      "[1 2 3]\n"
     ]
    }
   ],
   "source": [
    "a=np.array([1,2,3])\n",
    "print(a)"
   ]
  },
  {
   "cell_type": "code",
   "execution_count": 9,
   "id": "4866bb9f-7519-4d46-a169-8d614397ae2b",
   "metadata": {},
   "outputs": [
    {
     "name": "stdout",
     "output_type": "stream",
     "text": [
      "[[1 2 3]\n",
      " [4 5 6]]\n"
     ]
    }
   ],
   "source": [
    "b=np.array([[1,2,3],[4,5,6]])\n",
    "print(b)    "
   ]
  },
  {
   "cell_type": "code",
   "execution_count": 12,
   "id": "a5cb6e0a-a8fd-4192-8053-28cd6598f245",
   "metadata": {},
   "outputs": [
    {
     "name": "stdout",
     "output_type": "stream",
     "text": [
      "1\n",
      "2\n"
     ]
    }
   ],
   "source": [
    "# ndim:- ndim is used to find dimension of an array\n",
    "print(a.ndim)\n",
    "print(b.ndim)"
   ]
  },
  {
   "cell_type": "code",
   "execution_count": 13,
   "id": "92adbf1f-3aba-47a2-96f6-22bb6343de65",
   "metadata": {},
   "outputs": [
    {
     "name": "stdout",
     "output_type": "stream",
     "text": [
      "int64\n",
      "int64\n"
     ]
    }
   ],
   "source": [
    "# dtype:- is used to find data type of numpy array\n",
    "print(a.dtype)\n",
    "print(b.dtype)"
   ]
  },
  {
   "cell_type": "code",
   "execution_count": 16,
   "id": "712e3355-760a-45f1-963a-a8d0c756853d",
   "metadata": {},
   "outputs": [
    {
     "name": "stdout",
     "output_type": "stream",
     "text": [
      "8\n",
      "8\n"
     ]
    }
   ],
   "source": [
    "#itemsize:-itemsize is used to find itemsize of numpy array\n",
    "print(a.itemsize)\n",
    "print(b.itemsize)"
   ]
  },
  {
   "cell_type": "code",
   "execution_count": 18,
   "id": "aff35620-92ec-4b1b-8b86-b445d46b76a7",
   "metadata": {},
   "outputs": [
    {
     "name": "stdout",
     "output_type": "stream",
     "text": [
      "(3,)\n",
      "(2, 3)\n"
     ]
    }
   ],
   "source": [
    "#shape:-shape is used to find shape of numpy array\n",
    "print(a.shape)\n",
    "print(b.shape)\n"
   ]
  },
  {
   "cell_type": "code",
   "execution_count": 19,
   "id": "cfa31cf3-419f-4dde-9dca-f36f552c82cf",
   "metadata": {},
   "outputs": [
    {
     "name": "stdout",
     "output_type": "stream",
     "text": [
      "3\n",
      "6\n"
     ]
    }
   ],
   "source": [
    "#size:-size is used to find element of numpy array\n",
    "print(a.size)\n",
    "print(b.size)"
   ]
  },
  {
   "cell_type": "code",
   "execution_count": 23,
   "id": "d9863f85-f227-49c7-8799-306a942b070c",
   "metadata": {},
   "outputs": [
    {
     "name": "stdout",
     "output_type": "stream",
     "text": [
      "[[1 2]\n",
      " [3 4]\n",
      " [5 6]]\n"
     ]
    }
   ],
   "source": [
    "#reshape():-it is a function which is used to change the shape of numpy array\n",
    "print(b.reshape(3,2))"
   ]
  },
  {
   "cell_type": "code",
   "execution_count": 24,
   "id": "715b7109-a891-4a15-986f-14ab3f7f6260",
   "metadata": {},
   "outputs": [
    {
     "name": "stdout",
     "output_type": "stream",
     "text": [
      "3\n",
      "1\n",
      "6\n"
     ]
    }
   ],
   "source": [
    "#max()\n",
    "#min()\n",
    "#sum()\n",
    "print(a.max())\n",
    "print(a.min())\n",
    "print(a.sum())"
   ]
  },
  {
   "cell_type": "code",
   "execution_count": null,
   "id": "1eb85087",
   "metadata": {},
   "outputs": [],
   "source": []
  },
  {
   "cell_type": "code",
   "execution_count": null,
   "id": "efd441d4-da33-4e7c-915a-94a5fc2d4a1f",
   "metadata": {},
   "outputs": [],
   "source": []
  }
 ],
 "metadata": {
  "kernelspec": {
   "display_name": "Python 3 (ipykernel)",
   "language": "python",
   "name": "python3"
  },
  "language_info": {
   "codemirror_mode": {
    "name": "ipython",
    "version": 3
   },
   "file_extension": ".py",
   "mimetype": "text/x-python",
   "name": "python",
   "nbconvert_exporter": "python",
   "pygments_lexer": "ipython3",
   "version": "3.13.5"
  }
 },
 "nbformat": 4,
 "nbformat_minor": 5
}
