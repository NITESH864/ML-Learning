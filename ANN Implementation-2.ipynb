{
 "cells": [
  {
   "cell_type": "code",
   "execution_count": 1,
   "id": "66ace8ac-b775-426c-a07e-ad104bc3c38d",
   "metadata": {},
   "outputs": [],
   "source": [
    "# Import numpy\n",
    "import numpy as np"
   ]
  },
  {
   "cell_type": "code",
   "execution_count": 2,
   "id": "2297a70e-4199-484d-bad7-6ad5e522722b",
   "metadata": {},
   "outputs": [],
   "source": [
    "class NeuralNetwork:\n",
    "    def __init__(self):\n",
    "        self.weights=np.array([[0],[0],[0]],dtype='float64')\n",
    "        \n",
    "    def sigmoid(self,x):\n",
    "        return 1/(1+np.exp(-x))\n",
    "\n",
    "    def sigmoid_derivative(self,x):      # used for error correction\n",
    "        return x*(1-x)\n",
    "\n",
    "    def think(self,inputs):                #output processing\n",
    "        inputs=inputs.astype(float)\n",
    "        outputs=self.sigmoid(np.dot(inputs,self.weights))\n",
    "        return outputs\n",
    "\n",
    "    def train(self,training_inputs,training_outputs,training_iterations):\n",
    "        for i in range(training_iterations):\n",
    "            outputs=self.think(training_inputs)\n",
    "            error=training_outputs-outputs\n",
    "            adjustments=error*self.sigmoid_derivative(outputs)\n",
    "            self.weights+=np.dot(training_inputs.T,adjustments)\n",
    "        "
   ]
  },
  {
   "cell_type": "code",
   "execution_count": 3,
   "id": "7701bd89-109c-4792-8a70-58fe8cd8cf3a",
   "metadata": {},
   "outputs": [
    {
     "data": {
      "text/plain": [
       "array([[1, 0, 0],\n",
       "       [0, 1, 1],\n",
       "       [1, 0, 1],\n",
       "       [0, 1, 0]])"
      ]
     },
     "execution_count": 3,
     "metadata": {},
     "output_type": "execute_result"
    }
   ],
   "source": [
    "# Training and testing of model\n",
    "nn=NeuralNetwork()\n",
    "training_inputs=np.array([[1,0,0],[0,1,1],[1,0,1],[0,1,0]])\n",
    "training_inputs"
   ]
  },
  {
   "cell_type": "code",
   "execution_count": 4,
   "id": "212060fe-9b91-41fa-b783-4d11c819c05e",
   "metadata": {},
   "outputs": [
    {
     "data": {
      "text/plain": [
       "array([[1],\n",
       "       [0],\n",
       "       [1],\n",
       "       [0]])"
      ]
     },
     "execution_count": 4,
     "metadata": {},
     "output_type": "execute_result"
    }
   ],
   "source": [
    "training_outputs=np.array([[1,0,1,0]]).T\n",
    "training_outputs"
   ]
  },
  {
   "cell_type": "code",
   "execution_count": 5,
   "id": "03f5978f-a44f-45ce-929d-b4bda83e4e0c",
   "metadata": {},
   "outputs": [],
   "source": [
    "nn.train(training_inputs,training_outputs,10000)"
   ]
  },
  {
   "cell_type": "code",
   "execution_count": 9,
   "id": "d0be4337-1f12-4a2f-a3cf-db67063fa025",
   "metadata": {},
   "outputs": [
    {
     "name": "stdin",
     "output_type": "stream",
     "text": [
      "Input 1: 1\n",
      "Input 2: 1\n",
      "Input 3: 0\n"
     ]
    },
    {
     "name": "stdout",
     "output_type": "stream",
     "text": [
      "Output= 1.0\n"
     ]
    }
   ],
   "source": [
    "# Now test the model\n",
    "A=int(input(\"Input 1:\"))\n",
    "B=int(input(\"Input 2:\"))\n",
    "C=int(input(\"Input 3:\"))\n",
    "print(\"Output=\",nn.think(np.array([A,B,C]))[0].round())"
   ]
  },
  {
   "cell_type": "code",
   "execution_count": null,
   "id": "0248522e-7669-4a54-977c-2bee7524c1a3",
   "metadata": {},
   "outputs": [],
   "source": []
  }
 ],
 "metadata": {
  "kernelspec": {
   "display_name": "Python 3 (ipykernel)",
   "language": "python",
   "name": "python3"
  },
  "language_info": {
   "codemirror_mode": {
    "name": "ipython",
    "version": 3
   },
   "file_extension": ".py",
   "mimetype": "text/x-python",
   "name": "python",
   "nbconvert_exporter": "python",
   "pygments_lexer": "ipython3",
   "version": "3.13.5"
  }
 },
 "nbformat": 4,
 "nbformat_minor": 5
}
