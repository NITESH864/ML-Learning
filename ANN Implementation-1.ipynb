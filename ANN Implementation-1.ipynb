{
 "cells": [
  {
   "cell_type": "code",
   "execution_count": 1,
   "id": "a15bcd73-43d6-4744-bc16-65722c3ea13c",
   "metadata": {},
   "outputs": [],
   "source": [
    "import numpy as np\n"
   ]
  },
  {
   "cell_type": "code",
   "execution_count": 2,
   "id": "bee9bc15-ab4f-4aa3-8296-c8e749ffeeb4",
   "metadata": {},
   "outputs": [],
   "source": [
    "def sigmoid(x):\n",
    "    return 1/(1+np.exp(-x))"
   ]
  },
  {
   "cell_type": "code",
   "execution_count": 3,
   "id": "ddf588f4-a78f-4d77-baa9-c6798d12ef88",
   "metadata": {},
   "outputs": [],
   "source": [
    "def sigmoid_derivative(x):\n",
    "    return x*(1-x)"
   ]
  },
  {
   "cell_type": "code",
   "execution_count": 4,
   "id": "0b529cf1-6a41-41aa-ac8f-33056a7c8fcb",
   "metadata": {},
   "outputs": [
    {
     "data": {
      "text/plain": [
       "array([[1, 0, 0],\n",
       "       [0, 1, 1],\n",
       "       [1, 0, 1],\n",
       "       [0, 1, 0]])"
      ]
     },
     "execution_count": 4,
     "metadata": {},
     "output_type": "execute_result"
    }
   ],
   "source": [
    "training_inputs=np.array([[1,0,0],[0,1,1],[1,0,1],[0,1,0]])\n",
    "training_inputs"
   ]
  },
  {
   "cell_type": "code",
   "execution_count": 5,
   "id": "f2360f21-63f4-49a2-a29e-b4e65628801c",
   "metadata": {},
   "outputs": [
    {
     "data": {
      "text/plain": [
       "array([[1],\n",
       "       [0],\n",
       "       [1],\n",
       "       [0]])"
      ]
     },
     "execution_count": 5,
     "metadata": {},
     "output_type": "execute_result"
    }
   ],
   "source": [
    "training_output=np.array([[1,0,1,0]]).T     # T used to transpose rows to columns\n",
    "training_output"
   ]
  },
  {
   "cell_type": "code",
   "execution_count": 6,
   "id": "c87c5709-047f-4f65-b776-fc37c4bd9b14",
   "metadata": {},
   "outputs": [
    {
     "data": {
      "text/plain": [
       "array([[0.],\n",
       "       [0.],\n",
       "       [0.]])"
      ]
     },
     "execution_count": 6,
     "metadata": {},
     "output_type": "execute_result"
    }
   ],
   "source": [
    "weights=np.array([[0],[0],[0]],dtype='float64')\n",
    "weights"
   ]
  },
  {
   "cell_type": "code",
   "execution_count": 7,
   "id": "0d13782b-0920-4704-a6eb-cc5bf1246cfe",
   "metadata": {},
   "outputs": [
    {
     "data": {
      "text/plain": [
       "array([[0.9836679],\n",
       "       [0.0163321],\n",
       "       [0.9836679],\n",
       "       [0.0163321]])"
      ]
     },
     "execution_count": 7,
     "metadata": {},
     "output_type": "execute_result"
    }
   ],
   "source": [
    "# Training of neural network\n",
    "for i in range(1000):\n",
    "    input_layer=training_inputs\n",
    "    outputs=sigmoid(np.dot(input_layer,weights))\n",
    "    error=training_output-outputs\n",
    "    adjustments=error*sigmoid_derivative(outputs)\n",
    "    weights=weights+np.dot(input_layer.T,adjustments)\n",
    "outputs"
   ]
  },
  {
   "cell_type": "code",
   "execution_count": null,
   "id": "567a0df4-6173-49a2-b6a3-9b7fbf9e18bb",
   "metadata": {},
   "outputs": [],
   "source": []
  },
  {
   "cell_type": "code",
   "execution_count": null,
   "id": "5c5fd5e3-babb-48f2-98f5-29826abf985f",
   "metadata": {},
   "outputs": [],
   "source": []
  }
 ],
 "metadata": {
  "kernelspec": {
   "display_name": "Python 3 (ipykernel)",
   "language": "python",
   "name": "python3"
  },
  "language_info": {
   "codemirror_mode": {
    "name": "ipython",
    "version": 3
   },
   "file_extension": ".py",
   "mimetype": "text/x-python",
   "name": "python",
   "nbconvert_exporter": "python",
   "pygments_lexer": "ipython3",
   "version": "3.13.5"
  }
 },
 "nbformat": 4,
 "nbformat_minor": 5
}
