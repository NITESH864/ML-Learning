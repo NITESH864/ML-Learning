{
 "cells": [
  {
   "cell_type": "code",
   "execution_count": 1,
   "id": "baaf02f5-298e-41f8-89de-e387b46a8cf4",
   "metadata": {},
   "outputs": [],
   "source": [
    "import numpy as np\n",
    "import pandas as pd\n",
    "import matplotlib.pyplot as plt\n",
    "from matplotlib import style"
   ]
  },
  {
   "cell_type": "code",
   "execution_count": 2,
   "id": "b32cdbe3-69c9-44eb-8289-8c031360d9a1",
   "metadata": {},
   "outputs": [
    {
     "name": "stdout",
     "output_type": "stream",
     "text": [
      "[ 1  4  9 16 25]\n",
      "15\n",
      "3.0\n"
     ]
    }
   ],
   "source": [
    "# 1. Create a NumPy array with values [1, 2, 3, 4, 5] and compute the square of each element. Also calculate the sum and mean of the array.\n",
    "n1=np.array([1,2,3,4,5])\n",
    "print(n1*n1)\n",
    "print(sum(n1))\n",
    "print(sum(n1)/len(n1))"
   ]
  },
  {
   "cell_type": "code",
   "execution_count": 3,
   "id": "beaba0a8-3419-4693-9875-bf2a595adb9d",
   "metadata": {},
   "outputs": [
    {
     "name": "stdout",
     "output_type": "stream",
     "text": [
      "[[0. 0. 0.]\n",
      " [0. 0. 0.]\n",
      " [0. 0. 0.]]\n",
      "\n",
      " [[1. 1. 1. 1.]\n",
      " [1. 1. 1. 1.]\n",
      " [1. 1. 1. 1.]\n",
      " [1. 1. 1. 1.]]\n",
      "\n",
      " [[1. 0. 0. 0. 0.]\n",
      " [0. 1. 0. 0. 0.]\n",
      " [0. 0. 1. 0. 0.]\n",
      " [0. 0. 0. 1. 0.]\n",
      " [0. 0. 0. 0. 1.]]\n"
     ]
    }
   ],
   "source": [
    "'''\n",
    "2. Create the following using NumPy:-\n",
    "   I. A 3x3 array of all zeros\n",
    "   II. A 4x4 array of all ones\n",
    "   III. A 5x5 identity matrix\n",
    "'''\n",
    "zero=np.zeros((3,3))\n",
    "one=np.ones((4,4))\n",
    "ident=np.identity((5))\n",
    "print(zero)\n",
    "print('\\n',one)\n",
    "print('\\n',ident)"
   ]
  },
  {
   "cell_type": "code",
   "execution_count": 4,
   "id": "56687ae3-5da2-4f8a-a7ce-b7ed2c78fb95",
   "metadata": {},
   "outputs": [
    {
     "name": "stdout",
     "output_type": "stream",
     "text": [
      "[[1 2 3 4]\n",
      " [2 3 4 5]\n",
      " [1 6 4 2]]\n",
      "\n",
      " [[1 2 3]\n",
      " [4 2 3]\n",
      " [4 5 1]\n",
      " [6 4 2]]\n"
     ]
    }
   ],
   "source": [
    "#3. Create an array of values from 1 to 12. Reshape it into a 3x4 array and a 4x3 array.\n",
    "a=np.array([[1,2,3,4],[2,3,4,5],[1,6,4,2]])\n",
    "print(a)\n",
    "b=a.reshape(4,3)\n",
    "print('\\n',b)"
   ]
  },
  {
   "cell_type": "code",
   "execution_count": 5,
   "id": "e802b7e6-2769-401d-886a-2b11b427a8e4",
   "metadata": {},
   "outputs": [
    {
     "name": "stdout",
     "output_type": "stream",
     "text": [
      "Max value: 50\n",
      "Min value: 10\n",
      "Standard deviation value: 14.142135623730951\n"
     ]
    }
   ],
   "source": [
    "'''\n",
    "4. Create a NumPy array with values [10, 20, 30, 40, 50] and calculate:\n",
    "   I. Maximum value\n",
    "   II. Minimum value\n",
    "   III. Standard deviation\n",
    "'''\n",
    "arr=np.array([10,20,30,40,50])\n",
    "print(\"Max value:\",max(arr))\n",
    "print(\"Min value:\",min(arr))\n",
    "print(\"Standard deviation value:\",arr.std())"
   ]
  },
  {
   "cell_type": "code",
   "execution_count": 6,
   "id": "d5b2a158-ec6d-497b-92ce-ea082004837d",
   "metadata": {},
   "outputs": [
    {
     "name": "stdout",
     "output_type": "stream",
     "text": [
      "      Name  Age      City\n",
      "0    Alice   25  New York\n",
      "1      Bob   30    London\n",
      "2  Charlie   35     Paris\n"
     ]
    }
   ],
   "source": [
    "'''\n",
    ". Create a Pandas DataFrame from the following data:\n",
    "data = {\n",
    "    'Name': ['Alice', 'Bob', 'Charlie'],\n",
    "    'Age': [25, 30, 35],\n",
    "    'City': ['New York', 'London', 'Paris']\n",
    "}\n",
    "Print the DataFrame.\n",
    "'''\n",
    "data = {\n",
    "    'Name': ['Alice', 'Bob', 'Charlie'],\n",
    "    'Age': [25, 30, 35],\n",
    "    'City': ['New York', 'London', 'Paris']\n",
    "}\n",
    "df=pd.DataFrame(data)\n",
    "print(df)"
   ]
  },
  {
   "cell_type": "code",
   "execution_count": 7,
   "id": "91fe9a49-fb87-4e9d-98a9-7128dec7b644",
   "metadata": {},
   "outputs": [
    {
     "data": {
      "text/html": [
       "<div>\n",
       "<style scoped>\n",
       "    .dataframe tbody tr th:only-of-type {\n",
       "        vertical-align: middle;\n",
       "    }\n",
       "\n",
       "    .dataframe tbody tr th {\n",
       "        vertical-align: top;\n",
       "    }\n",
       "\n",
       "    .dataframe thead th {\n",
       "        text-align: right;\n",
       "    }\n",
       "</style>\n",
       "<table border=\"1\" class=\"dataframe\">\n",
       "  <thead>\n",
       "    <tr style=\"text-align: right;\">\n",
       "      <th></th>\n",
       "      <th>study_hours</th>\n",
       "      <th>student_marks</th>\n",
       "    </tr>\n",
       "  </thead>\n",
       "  <tbody>\n",
       "    <tr>\n",
       "      <th>0</th>\n",
       "      <td>6.83</td>\n",
       "      <td>78.50</td>\n",
       "    </tr>\n",
       "    <tr>\n",
       "      <th>1</th>\n",
       "      <td>6.56</td>\n",
       "      <td>76.74</td>\n",
       "    </tr>\n",
       "    <tr>\n",
       "      <th>2</th>\n",
       "      <td>NaN</td>\n",
       "      <td>78.68</td>\n",
       "    </tr>\n",
       "    <tr>\n",
       "      <th>3</th>\n",
       "      <td>5.67</td>\n",
       "      <td>71.82</td>\n",
       "    </tr>\n",
       "    <tr>\n",
       "      <th>4</th>\n",
       "      <td>8.67</td>\n",
       "      <td>84.19</td>\n",
       "    </tr>\n",
       "    <tr>\n",
       "      <th>...</th>\n",
       "      <td>...</td>\n",
       "      <td>...</td>\n",
       "    </tr>\n",
       "    <tr>\n",
       "      <th>195</th>\n",
       "      <td>7.53</td>\n",
       "      <td>81.67</td>\n",
       "    </tr>\n",
       "    <tr>\n",
       "      <th>196</th>\n",
       "      <td>8.56</td>\n",
       "      <td>84.68</td>\n",
       "    </tr>\n",
       "    <tr>\n",
       "      <th>197</th>\n",
       "      <td>8.94</td>\n",
       "      <td>86.75</td>\n",
       "    </tr>\n",
       "    <tr>\n",
       "      <th>198</th>\n",
       "      <td>6.60</td>\n",
       "      <td>78.05</td>\n",
       "    </tr>\n",
       "    <tr>\n",
       "      <th>199</th>\n",
       "      <td>8.35</td>\n",
       "      <td>83.50</td>\n",
       "    </tr>\n",
       "  </tbody>\n",
       "</table>\n",
       "<p>200 rows × 2 columns</p>\n",
       "</div>"
      ],
      "text/plain": [
       "     study_hours  student_marks\n",
       "0           6.83          78.50\n",
       "1           6.56          76.74\n",
       "2            NaN          78.68\n",
       "3           5.67          71.82\n",
       "4           8.67          84.19\n",
       "..           ...            ...\n",
       "195         7.53          81.67\n",
       "196         8.56          84.68\n",
       "197         8.94          86.75\n",
       "198         6.60          78.05\n",
       "199         8.35          83.50\n",
       "\n",
       "[200 rows x 2 columns]"
      ]
     },
     "execution_count": 7,
     "metadata": {},
     "output_type": "execute_result"
    }
   ],
   "source": [
    "'''\n",
    "6. Read a CSV file named data.csv and display:\n",
    "   I. The first 5 rows\n",
    "   II. The column names\n",
    "   III. The shape of the DataFrame\n",
    "'''\n",
    "data = pd.read_csv(\"student_info.csv\")\n",
    "data"
   ]
  },
  {
   "cell_type": "code",
   "execution_count": 8,
   "id": "b8a52f6a-fc58-410e-ba53-f1488026beb3",
   "metadata": {},
   "outputs": [
    {
     "data": {
      "image/png": "[encoded data removed]",
      "text/plain": [
       "<Figure size 640x480 with 1 Axes>"
      ]
     },
     "metadata": {},
     "output_type": "display_data"
    }
   ],
   "source": [
    "'''\n",
    "7. Plot a simple line graph for the following data:\n",
    "x = [1, 2, 3, 4, 5]  \n",
    "y = [2, 4, 6, 8, 10]\n",
    "'''\n",
    "x=[1,2,3,4,5]\n",
    "y=[2,4,6,8,10]\n",
    "plt.plot(x,y,'r')\n",
    "plt.xlabel(\"x-axis\")\n",
    "plt.ylabel(\"y-axis\")\n",
    "plt.title(\"Information\")\n",
    "plt.grid(True,color='y')"
   ]
  },
  {
   "cell_type": "code",
   "execution_count": 9,
   "id": "34b4661e-8fc3-48f7-a162-a1853cc2f3c5",
   "metadata": {},
   "outputs": [
    {
     "data": {
      "text/plain": [
       "<BarContainer object of 4 artists>"
      ]
     },
     "execution_count": 9,
     "metadata": {},
     "output_type": "execute_result"
    },
    {
     "data": {
      "image/png": "[encoded data removed]",
      "text/plain": [
       "<Figure size 640x480 with 1 Axes>"
      ]
     },
     "metadata": {},
     "output_type": "display_data"
    }
   ],
   "source": [
    "'''\n",
    "8. Create a bar chart for the following data:\n",
    "cities = ['Delhi', 'Mumbai', 'Kolkata', 'Chennai']\n",
    "population = [19, 20, 15, 18]\n",
    "'''\n",
    "cities= ['Delhi', 'Mumbai', 'Kolkata', 'Chennai']\n",
    "population = [19, 20, 15, 18]\n",
    "plt.bar(cities,population)"
   ]
  },
  {
   "cell_type": "code",
   "execution_count": 10,
   "id": "7afa7d66-3ae0-4e67-b6f0-3dc7e1c2d698",
   "metadata": {},
   "outputs": [
    {
     "data": {
      "image/png": "[encoded data removed]",
      "text/plain": [
       "<Figure size 640x480 with 1 Axes>"
      ]
     },
     "metadata": {},
     "output_type": "display_data"
    }
   ],
   "source": [
    "'''\n",
    "9. Create a scatter plot for the following data:\n",
    "x = [5, 7, 8, 7, 2, 17, 2, 9]\n",
    "y = [99, 86, 87, 88, 100, 86, 103, 87]\n",
    "'''\n",
    "x = [5, 7, 8, 7, 2, 17, 2, 9]\n",
    "y = [99, 86, 87, 88, 100, 86, 103, 87]\n",
    "plt.scatter(x,y)\n",
    "plt.grid()\n",
    "plt.show()"
   ]
  },
  {
   "cell_type": "code",
   "execution_count": 11,
   "id": "d9007ffc-bcdb-4859-83ef-8a19f3486de4",
   "metadata": {},
   "outputs": [],
   "source": [
    "#10. What is pandas? Describe its data structures."
   ]
  },
  {
   "cell_type": "markdown",
   "id": "0dd4c4e1-4d4e-4252-957c-9e43dc42f809",
   "metadata": {},
   "source": [
    "# Task2"
   ]
  },
  {
   "cell_type": "code",
   "execution_count": 12,
   "id": "145eeb20-8f39-42db-b112-5f017b48d34c",
   "metadata": {},
   "outputs": [
    {
     "data": {
      "text/html": [
       "<div>\n",
       "<style scoped>\n",
       "    .dataframe tbody tr th:only-of-type {\n",
       "        vertical-align: middle;\n",
       "    }\n",
       "\n",
       "    .dataframe tbody tr th {\n",
       "        vertical-align: top;\n",
       "    }\n",
       "\n",
       "    .dataframe thead th {\n",
       "        text-align: right;\n",
       "    }\n",
       "</style>\n",
       "<table border=\"1\" class=\"dataframe\">\n",
       "  <thead>\n",
       "    <tr style=\"text-align: right;\">\n",
       "      <th></th>\n",
       "      <th>User ID</th>\n",
       "      <th>Gender</th>\n",
       "      <th>Age</th>\n",
       "      <th>EstimatedSalary</th>\n",
       "      <th>Purchased</th>\n",
       "    </tr>\n",
       "  </thead>\n",
       "  <tbody>\n",
       "    <tr>\n",
       "      <th>0</th>\n",
       "      <td>15624510</td>\n",
       "      <td>Male</td>\n",
       "      <td>19.0</td>\n",
       "      <td>19000.0</td>\n",
       "      <td>0</td>\n",
       "    </tr>\n",
       "    <tr>\n",
       "      <th>1</th>\n",
       "      <td>15810944</td>\n",
       "      <td>Male</td>\n",
       "      <td>35.0</td>\n",
       "      <td>20000.0</td>\n",
       "      <td>0</td>\n",
       "    </tr>\n",
       "    <tr>\n",
       "      <th>2</th>\n",
       "      <td>15668575</td>\n",
       "      <td>Female</td>\n",
       "      <td>26.0</td>\n",
       "      <td>43000.0</td>\n",
       "      <td>0</td>\n",
       "    </tr>\n",
       "    <tr>\n",
       "      <th>3</th>\n",
       "      <td>15603246</td>\n",
       "      <td>Female</td>\n",
       "      <td>27.0</td>\n",
       "      <td>57000.0</td>\n",
       "      <td>0</td>\n",
       "    </tr>\n",
       "    <tr>\n",
       "      <th>4</th>\n",
       "      <td>15804002</td>\n",
       "      <td>Male</td>\n",
       "      <td>19.0</td>\n",
       "      <td>76000.0</td>\n",
       "      <td>0</td>\n",
       "    </tr>\n",
       "    <tr>\n",
       "      <th>...</th>\n",
       "      <td>...</td>\n",
       "      <td>...</td>\n",
       "      <td>...</td>\n",
       "      <td>...</td>\n",
       "      <td>...</td>\n",
       "    </tr>\n",
       "    <tr>\n",
       "      <th>395</th>\n",
       "      <td>15691863</td>\n",
       "      <td>Female</td>\n",
       "      <td>46.0</td>\n",
       "      <td>41000.0</td>\n",
       "      <td>1</td>\n",
       "    </tr>\n",
       "    <tr>\n",
       "      <th>396</th>\n",
       "      <td>15706071</td>\n",
       "      <td>Male</td>\n",
       "      <td>51.0</td>\n",
       "      <td>23000.0</td>\n",
       "      <td>1</td>\n",
       "    </tr>\n",
       "    <tr>\n",
       "      <th>397</th>\n",
       "      <td>15654296</td>\n",
       "      <td>Female</td>\n",
       "      <td>50.0</td>\n",
       "      <td>20000.0</td>\n",
       "      <td>1</td>\n",
       "    </tr>\n",
       "    <tr>\n",
       "      <th>398</th>\n",
       "      <td>15755018</td>\n",
       "      <td>Male</td>\n",
       "      <td>36.0</td>\n",
       "      <td>33000.0</td>\n",
       "      <td>0</td>\n",
       "    </tr>\n",
       "    <tr>\n",
       "      <th>399</th>\n",
       "      <td>15594041</td>\n",
       "      <td>Female</td>\n",
       "      <td>49.0</td>\n",
       "      <td>36000.0</td>\n",
       "      <td>1</td>\n",
       "    </tr>\n",
       "  </tbody>\n",
       "</table>\n",
       "<p>400 rows × 5 columns</p>\n",
       "</div>"
      ],
      "text/plain": [
       "      User ID  Gender   Age  EstimatedSalary  Purchased\n",
       "0    15624510    Male  19.0          19000.0          0\n",
       "1    15810944    Male  35.0          20000.0          0\n",
       "2    15668575  Female  26.0          43000.0          0\n",
       "3    15603246  Female  27.0          57000.0          0\n",
       "4    15804002    Male  19.0          76000.0          0\n",
       "..        ...     ...   ...              ...        ...\n",
       "395  15691863  Female  46.0          41000.0          1\n",
       "396  15706071    Male  51.0          23000.0          1\n",
       "397  15654296  Female  50.0          20000.0          1\n",
       "398  15755018    Male  36.0          33000.0          0\n",
       "399  15594041  Female  49.0          36000.0          1\n",
       "\n",
       "[400 rows x 5 columns]"
      ]
     },
     "execution_count": 12,
     "metadata": {},
     "output_type": "execute_result"
    }
   ],
   "source": [
    "dt=pd.read_csv(\"dtsvm.csv\")\n",
    "dt"
   ]
  },
  {
   "cell_type": "code",
   "execution_count": 13,
   "id": "1366d108-27e6-4e1a-8f73-de48c88a7176",
   "metadata": {},
   "outputs": [
    {
     "data": {
      "text/plain": [
       "User ID            0\n",
       "Gender             0\n",
       "Age                2\n",
       "EstimatedSalary    2\n",
       "Purchased          0\n",
       "dtype: int64"
      ]
     },
     "execution_count": 13,
     "metadata": {},
     "output_type": "execute_result"
    }
   ],
   "source": [
    "f=dt.isnull().sum()\n",
    "f"
   ]
  },
  {
   "cell_type": "code",
   "execution_count": 14,
   "id": "5c25599b-6afe-4603-9eec-111921c0d291",
   "metadata": {},
   "outputs": [
    {
     "data": {
      "text/plain": [
       "array([[15624510, 'Male', 19.0, 19000.0],\n",
       "       [15810944, 'Male', 35.0, 20000.0],\n",
       "       [15668575, 'Female', 26.0, 43000.0],\n",
       "       ...,\n",
       "       [15654296, 'Female', 50.0, 20000.0],\n",
       "       [15755018, 'Male', 36.0, 33000.0],\n",
       "       [15594041, 'Female', 49.0, 36000.0]], shape=(400, 4), dtype=object)"
      ]
     },
     "execution_count": 14,
     "metadata": {},
     "output_type": "execute_result"
    }
   ],
   "source": [
    "# Extract Independent variables\n",
    "x=dt.iloc[:,:4].values\n",
    "x"
   ]
  },
  {
   "cell_type": "code",
   "execution_count": 15,
   "id": "bb2a496f-7041-4d9d-9353-b07d19f5b52e",
   "metadata": {},
   "outputs": [
    {
     "data": {
      "text/plain": [
       "array([0, 0, 0, 0, 0, 0, 0, 1, 0, 0, 0, 0, 0, 0, 0, 0, 1, 1, 1, 1, 1, 1,\n",
       "       1, 1, 1, 1, 1, 1, 0, 0, 0, 1, 0, 0, 0, 0, 0, 0, 0, 0, 0, 0, 0, 0,\n",
       "       0, 0, 0, 0, 1, 0, 0, 0, 0, 0, 0, 0, 0, 0, 0, 0, 0, 0, 0, 1, 0, 0,\n",
       "       0, 0, 0, 0, 0, 0, 0, 0, 0, 1, 0, 0, 0, 0, 0, 0, 0, 0, 0, 1, 0, 0,\n",
       "       0, 0, 0, 0, 0, 0, 0, 0, 0, 1, 0, 0, 0, 0, 0, 1, 0, 0, 0, 0, 0, 0,\n",
       "       0, 0, 0, 0, 0, 0, 0, 0, 0, 0, 0, 0, 0, 0, 0, 0, 0, 0, 0, 0, 0, 0,\n",
       "       0, 0, 0, 0, 0, 1, 0, 0, 0, 0, 0, 0, 0, 0, 1, 0, 0, 0, 0, 0, 0, 0,\n",
       "       0, 0, 0, 0, 0, 1, 1, 0, 0, 0, 0, 0, 0, 0, 1, 0, 0, 0, 0, 0, 0, 0,\n",
       "       0, 0, 0, 0, 0, 0, 1, 0, 0, 0, 0, 0, 0, 0, 0, 0, 0, 0, 0, 0, 0, 0,\n",
       "       0, 0, 0, 0, 1, 0, 1, 0, 1, 0, 1, 0, 1, 1, 0, 0, 0, 1, 0, 0, 0, 1,\n",
       "       0, 1, 1, 1, 0, 0, 1, 1, 0, 1, 1, 0, 1, 1, 0, 1, 0, 0, 0, 1, 1, 0,\n",
       "       1, 1, 0, 1, 0, 1, 0, 1, 0, 0, 1, 1, 0, 1, 0, 0, 1, 1, 0, 1, 1, 0,\n",
       "       1, 1, 0, 0, 1, 0, 0, 1, 1, 1, 1, 1, 0, 1, 1, 1, 1, 0, 1, 1, 0, 1,\n",
       "       0, 1, 0, 1, 1, 1, 1, 0, 0, 0, 1, 1, 0, 1, 1, 1, 1, 1, 0, 0, 0, 1,\n",
       "       1, 0, 0, 1, 0, 1, 0, 1, 1, 0, 1, 0, 1, 1, 0, 1, 1, 0, 0, 0, 1, 1,\n",
       "       0, 1, 0, 0, 1, 0, 1, 0, 0, 1, 1, 0, 0, 1, 1, 0, 1, 1, 0, 0, 1, 0,\n",
       "       1, 0, 1, 1, 1, 0, 1, 0, 1, 1, 1, 0, 1, 1, 1, 1, 0, 1, 1, 1, 0, 1,\n",
       "       0, 1, 0, 0, 1, 1, 0, 1, 1, 1, 1, 1, 1, 0, 1, 1, 1, 1, 1, 1, 0, 1,\n",
       "       1, 1, 0, 1])"
      ]
     },
     "execution_count": 15,
     "metadata": {},
     "output_type": "execute_result"
    }
   ],
   "source": [
    "# Extract Dependent Variables\n",
    "y=dt.iloc[:,4].values\n",
    "y"
   ]
  },
  {
   "cell_type": "code",
   "execution_count": 16,
   "id": "613e3c43-61f8-4df2-8215-7f5975d56559",
   "metadata": {},
   "outputs": [
    {
     "data": {
      "text/plain": [
       "array([[15624510, 'Male', 19.0, 19000.0],\n",
       "       [15810944, 'Male', 35.0, 20000.0],\n",
       "       [15668575, 'Female', 26.0, 43000.0],\n",
       "       ...,\n",
       "       [15654296, 'Female', 50.0, 20000.0],\n",
       "       [15755018, 'Male', 36.0, 33000.0],\n",
       "       [15594041, 'Female', 49.0, 36000.0]], shape=(400, 4), dtype=object)"
      ]
     },
     "execution_count": 16,
     "metadata": {},
     "output_type": "execute_result"
    }
   ],
   "source": [
    "#Handling missing value\n",
    "from sklearn.impute import SimpleImputer\n",
    "si=SimpleImputer(missing_values=np.nan,strategy=\"mean\")\n",
    "x[:,2:4]=si.fit_transform(x[:,2:4])\n",
    "x"
   ]
  },
  {
   "cell_type": "code",
   "execution_count": 17,
   "id": "6f12f150-cdaa-43ca-bb41-fa0211034dfa",
   "metadata": {},
   "outputs": [
    {
     "data": {
      "text/html": [
       "<div>\n",
       "<style scoped>\n",
       "    .dataframe tbody tr th:only-of-type {\n",
       "        vertical-align: middle;\n",
       "    }\n",
       "\n",
       "    .dataframe tbody tr th {\n",
       "        vertical-align: top;\n",
       "    }\n",
       "\n",
       "    .dataframe thead th {\n",
       "        text-align: right;\n",
       "    }\n",
       "</style>\n",
       "<table border=\"1\" class=\"dataframe\">\n",
       "  <thead>\n",
       "    <tr style=\"text-align: right;\">\n",
       "      <th></th>\n",
       "      <th>User ID</th>\n",
       "      <th>Gender</th>\n",
       "      <th>Age</th>\n",
       "      <th>EstimatedSalary</th>\n",
       "      <th>Purchased</th>\n",
       "    </tr>\n",
       "  </thead>\n",
       "  <tbody>\n",
       "    <tr>\n",
       "      <th>0</th>\n",
       "      <td>15624510</td>\n",
       "      <td>Male</td>\n",
       "      <td>19.0</td>\n",
       "      <td>19000.0</td>\n",
       "      <td>0</td>\n",
       "    </tr>\n",
       "    <tr>\n",
       "      <th>1</th>\n",
       "      <td>15810944</td>\n",
       "      <td>Male</td>\n",
       "      <td>35.0</td>\n",
       "      <td>20000.0</td>\n",
       "      <td>0</td>\n",
       "    </tr>\n",
       "    <tr>\n",
       "      <th>2</th>\n",
       "      <td>15668575</td>\n",
       "      <td>Female</td>\n",
       "      <td>26.0</td>\n",
       "      <td>43000.0</td>\n",
       "      <td>0</td>\n",
       "    </tr>\n",
       "    <tr>\n",
       "      <th>3</th>\n",
       "      <td>15603246</td>\n",
       "      <td>Female</td>\n",
       "      <td>27.0</td>\n",
       "      <td>57000.0</td>\n",
       "      <td>0</td>\n",
       "    </tr>\n",
       "    <tr>\n",
       "      <th>4</th>\n",
       "      <td>15804002</td>\n",
       "      <td>Male</td>\n",
       "      <td>19.0</td>\n",
       "      <td>76000.0</td>\n",
       "      <td>0</td>\n",
       "    </tr>\n",
       "    <tr>\n",
       "      <th>5</th>\n",
       "      <td>15728773</td>\n",
       "      <td>Male</td>\n",
       "      <td>27.0</td>\n",
       "      <td>58000.0</td>\n",
       "      <td>0</td>\n",
       "    </tr>\n",
       "    <tr>\n",
       "      <th>6</th>\n",
       "      <td>15598044</td>\n",
       "      <td>Female</td>\n",
       "      <td>27.0</td>\n",
       "      <td>84000.0</td>\n",
       "      <td>0</td>\n",
       "    </tr>\n",
       "    <tr>\n",
       "      <th>7</th>\n",
       "      <td>15694829</td>\n",
       "      <td>Female</td>\n",
       "      <td>32.0</td>\n",
       "      <td>150000.0</td>\n",
       "      <td>1</td>\n",
       "    </tr>\n",
       "    <tr>\n",
       "      <th>8</th>\n",
       "      <td>15600575</td>\n",
       "      <td>Male</td>\n",
       "      <td>25.0</td>\n",
       "      <td>33000.0</td>\n",
       "      <td>0</td>\n",
       "    </tr>\n",
       "    <tr>\n",
       "      <th>9</th>\n",
       "      <td>15727311</td>\n",
       "      <td>Female</td>\n",
       "      <td>35.0</td>\n",
       "      <td>65000.0</td>\n",
       "      <td>0</td>\n",
       "    </tr>\n",
       "    <tr>\n",
       "      <th>10</th>\n",
       "      <td>15570769</td>\n",
       "      <td>Female</td>\n",
       "      <td>26.0</td>\n",
       "      <td>80000.0</td>\n",
       "      <td>0</td>\n",
       "    </tr>\n",
       "    <tr>\n",
       "      <th>11</th>\n",
       "      <td>15606274</td>\n",
       "      <td>Female</td>\n",
       "      <td>26.0</td>\n",
       "      <td>52000.0</td>\n",
       "      <td>0</td>\n",
       "    </tr>\n",
       "    <tr>\n",
       "      <th>12</th>\n",
       "      <td>15746139</td>\n",
       "      <td>Male</td>\n",
       "      <td>20.0</td>\n",
       "      <td>86000.0</td>\n",
       "      <td>0</td>\n",
       "    </tr>\n",
       "    <tr>\n",
       "      <th>13</th>\n",
       "      <td>15704987</td>\n",
       "      <td>Male</td>\n",
       "      <td>32.0</td>\n",
       "      <td>18000.0</td>\n",
       "      <td>0</td>\n",
       "    </tr>\n",
       "    <tr>\n",
       "      <th>14</th>\n",
       "      <td>15628972</td>\n",
       "      <td>Male</td>\n",
       "      <td>18.0</td>\n",
       "      <td>82000.0</td>\n",
       "      <td>0</td>\n",
       "    </tr>\n",
       "    <tr>\n",
       "      <th>15</th>\n",
       "      <td>15697686</td>\n",
       "      <td>Male</td>\n",
       "      <td>29.0</td>\n",
       "      <td>80000.0</td>\n",
       "      <td>0</td>\n",
       "    </tr>\n",
       "    <tr>\n",
       "      <th>16</th>\n",
       "      <td>15733883</td>\n",
       "      <td>Male</td>\n",
       "      <td>47.0</td>\n",
       "      <td>25000.0</td>\n",
       "      <td>1</td>\n",
       "    </tr>\n",
       "    <tr>\n",
       "      <th>17</th>\n",
       "      <td>15617482</td>\n",
       "      <td>Male</td>\n",
       "      <td>45.0</td>\n",
       "      <td>26000.0</td>\n",
       "      <td>1</td>\n",
       "    </tr>\n",
       "    <tr>\n",
       "      <th>18</th>\n",
       "      <td>15704583</td>\n",
       "      <td>Male</td>\n",
       "      <td>46.0</td>\n",
       "      <td>28000.0</td>\n",
       "      <td>1</td>\n",
       "    </tr>\n",
       "    <tr>\n",
       "      <th>19</th>\n",
       "      <td>15621083</td>\n",
       "      <td>Female</td>\n",
       "      <td>48.0</td>\n",
       "      <td>29000.0</td>\n",
       "      <td>1</td>\n",
       "    </tr>\n",
       "    <tr>\n",
       "      <th>20</th>\n",
       "      <td>15649487</td>\n",
       "      <td>Male</td>\n",
       "      <td>45.0</td>\n",
       "      <td>22000.0</td>\n",
       "      <td>1</td>\n",
       "    </tr>\n",
       "    <tr>\n",
       "      <th>21</th>\n",
       "      <td>15736760</td>\n",
       "      <td>Female</td>\n",
       "      <td>47.0</td>\n",
       "      <td>49000.0</td>\n",
       "      <td>1</td>\n",
       "    </tr>\n",
       "    <tr>\n",
       "      <th>22</th>\n",
       "      <td>15714658</td>\n",
       "      <td>Male</td>\n",
       "      <td>48.0</td>\n",
       "      <td>41000.0</td>\n",
       "      <td>1</td>\n",
       "    </tr>\n",
       "    <tr>\n",
       "      <th>23</th>\n",
       "      <td>15599081</td>\n",
       "      <td>Female</td>\n",
       "      <td>45.0</td>\n",
       "      <td>22000.0</td>\n",
       "      <td>1</td>\n",
       "    </tr>\n",
       "    <tr>\n",
       "      <th>24</th>\n",
       "      <td>15705113</td>\n",
       "      <td>Male</td>\n",
       "      <td>46.0</td>\n",
       "      <td>23000.0</td>\n",
       "      <td>1</td>\n",
       "    </tr>\n",
       "    <tr>\n",
       "      <th>25</th>\n",
       "      <td>15631159</td>\n",
       "      <td>Male</td>\n",
       "      <td>47.0</td>\n",
       "      <td>20000.0</td>\n",
       "      <td>1</td>\n",
       "    </tr>\n",
       "    <tr>\n",
       "      <th>26</th>\n",
       "      <td>15792818</td>\n",
       "      <td>Male</td>\n",
       "      <td>49.0</td>\n",
       "      <td>NaN</td>\n",
       "      <td>1</td>\n",
       "    </tr>\n",
       "    <tr>\n",
       "      <th>27</th>\n",
       "      <td>15633531</td>\n",
       "      <td>Female</td>\n",
       "      <td>47.0</td>\n",
       "      <td>30000.0</td>\n",
       "      <td>1</td>\n",
       "    </tr>\n",
       "    <tr>\n",
       "      <th>28</th>\n",
       "      <td>15744529</td>\n",
       "      <td>Male</td>\n",
       "      <td>29.0</td>\n",
       "      <td>43000.0</td>\n",
       "      <td>0</td>\n",
       "    </tr>\n",
       "    <tr>\n",
       "      <th>29</th>\n",
       "      <td>15669656</td>\n",
       "      <td>Male</td>\n",
       "      <td>31.0</td>\n",
       "      <td>18000.0</td>\n",
       "      <td>0</td>\n",
       "    </tr>\n",
       "  </tbody>\n",
       "</table>\n",
       "</div>"
      ],
      "text/plain": [
       "     User ID  Gender   Age  EstimatedSalary  Purchased\n",
       "0   15624510    Male  19.0          19000.0          0\n",
       "1   15810944    Male  35.0          20000.0          0\n",
       "2   15668575  Female  26.0          43000.0          0\n",
       "3   15603246  Female  27.0          57000.0          0\n",
       "4   15804002    Male  19.0          76000.0          0\n",
       "5   15728773    Male  27.0          58000.0          0\n",
       "6   15598044  Female  27.0          84000.0          0\n",
       "7   15694829  Female  32.0         150000.0          1\n",
       "8   15600575    Male  25.0          33000.0          0\n",
       "9   15727311  Female  35.0          65000.0          0\n",
       "10  15570769  Female  26.0          80000.0          0\n",
       "11  15606274  Female  26.0          52000.0          0\n",
       "12  15746139    Male  20.0          86000.0          0\n",
       "13  15704987    Male  32.0          18000.0          0\n",
       "14  15628972    Male  18.0          82000.0          0\n",
       "15  15697686    Male  29.0          80000.0          0\n",
       "16  15733883    Male  47.0          25000.0          1\n",
       "17  15617482    Male  45.0          26000.0          1\n",
       "18  15704583    Male  46.0          28000.0          1\n",
       "19  15621083  Female  48.0          29000.0          1\n",
       "20  15649487    Male  45.0          22000.0          1\n",
       "21  15736760  Female  47.0          49000.0          1\n",
       "22  15714658    Male  48.0          41000.0          1\n",
       "23  15599081  Female  45.0          22000.0          1\n",
       "24  15705113    Male  46.0          23000.0          1\n",
       "25  15631159    Male  47.0          20000.0          1\n",
       "26  15792818    Male  49.0              NaN          1\n",
       "27  15633531  Female  47.0          30000.0          1\n",
       "28  15744529    Male  29.0          43000.0          0\n",
       "29  15669656    Male  31.0          18000.0          0"
      ]
     },
     "execution_count": 17,
     "metadata": {},
     "output_type": "execute_result"
    }
   ],
   "source": [
    "dt.head(30)"
   ]
  },
  {
   "cell_type": "code",
   "execution_count": 18,
   "id": "4b251ef5-9dac-475a-a3cb-078e5e0a18bf",
   "metadata": {},
   "outputs": [
    {
     "data": {
      "text/plain": [
       "User ID            0\n",
       "Gender             0\n",
       "Age                2\n",
       "EstimatedSalary    2\n",
       "Purchased          0\n",
       "dtype: int64"
      ]
     },
     "execution_count": 18,
     "metadata": {},
     "output_type": "execute_result"
    }
   ],
   "source": [
    "g=dt.isnull().sum()\n",
    "g"
   ]
  },
  {
   "cell_type": "code",
   "execution_count": null,
   "id": "58b6e07b-8746-4939-9faa-35afc7ca56e8",
   "metadata": {},
   "outputs": [],
   "source": []
  },
  {
   "cell_type": "code",
   "execution_count": null,
   "id": "a5594bdf-9aac-4f9a-a86f-45e975032b62",
   "metadata": {},
   "outputs": [],
   "source": []
  }
 ],
 "metadata": {
  "kernelspec": {
   "display_name": "Python 3 (ipykernel)",
   "language": "python",
   "name": "python3"
  },
  "language_info": {
   "codemirror_mode": {
    "name": "ipython",
    "version": 3
   },
   "file_extension": ".py",
   "mimetype": "text/x-python",
   "name": "python",
   "nbconvert_exporter": "python",
   "pygments_lexer": "ipython3",
   "version": "3.13.5"
  }
 },
 "nbformat": 4,
 "nbformat_minor": 5
}
